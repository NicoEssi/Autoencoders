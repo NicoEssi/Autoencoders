{
  "nbformat": 4,
  "nbformat_minor": 0,
  "metadata": {
    "colab": {
      "name": "SAW_2D.ipynb",
      "provenance": [],
      "authorship_tag": "ABX9TyOw6yAjaJ5cE4NC/e1G2YI9",
      "include_colab_link": true
    },
    "kernelspec": {
      "name": "python3",
      "display_name": "Python 3"
    }
  },
  "cells": [
    {
      "cell_type": "markdown",
      "metadata": {
        "id": "view-in-github",
        "colab_type": "text"
      },
      "source": [
        "<a href=\"https://colab.research.google.com/github/NicoEssi/Uncategorized_Code/blob/master/SAW_2D.ipynb\" target=\"_parent\"><img src=\"https://colab.research.google.com/assets/colab-badge.svg\" alt=\"Open In Colab\"/></a>"
      ]
    },
    {
      "cell_type": "markdown",
      "metadata": {
        "id": "RKPoVGB2fgbm"
      },
      "source": [
        "# Setup"
      ]
    },
    {
      "cell_type": "code",
      "metadata": {
        "id": "O-kzqKarbig5"
      },
      "source": [
        "## Import Dependencies\n",
        "import pylab\n",
        "import os\n",
        "import math\n",
        "from pylab import *\n",
        "from mpl_toolkits.mplot3d import Axes3D\n",
        "import numpy as np\n",
        "import matplotlib.pyplot as plt\n",
        "import random\n",
        "from random import seed\n",
        "from random import randint\n",
        "from decimal import Decimal\n",
        "from collections import Counter\n",
        "\n",
        "## First Assignment\n",
        "\n",
        "# Number of runs\n",
        "n = 100\n",
        "\n",
        "# Number of steps\n",
        "N = 50\n",
        "\n",
        "# Recorded positions\n",
        "rList = []\n",
        "\n",
        "# Number of runs\n",
        "rNumber = []"
      ],
      "execution_count": 31,
      "outputs": []
    },
    {
      "cell_type": "markdown",
      "metadata": {
        "id": "rTDc8P05fk_3"
      },
      "source": [
        "# Step Function"
      ]
    },
    {
      "cell_type": "code",
      "metadata": {
        "id": "Nd1VeR7Tbr32"
      },
      "source": [
        "for ii in range(n):\n",
        "  # Stored previous locations\n",
        "  visited = []\n",
        "  steps_taken = 0\n",
        "  prev = None\n",
        "  moved = False\n",
        "\n",
        "  # Starting position\n",
        "  posx = 0\n",
        "  posy = 0\n",
        "  #posz = 0\n",
        "  #posw = 0\n",
        "  visited.append([posx, posy]) # samma\n",
        "  x = []\n",
        "  y = []\n",
        "  x.append(posx)\n",
        "  y.append(posy)\n",
        "  #z = []\n",
        "\n",
        "\n",
        "  # Take N steps in stochastic directions\n",
        "  for jj in range(N):\n",
        "    value = random.randint(0,3)\n",
        "    if value == 0 and prev != 1:\n",
        "      prev = 0\n",
        "      posx += 1\n",
        "      steps_taken += 1\n",
        "      moved = True\n",
        "\n",
        "    elif value == 1 and prev != 0:\n",
        "      prev = 1\n",
        "      posx -= 1\n",
        "      steps_taken += 1\n",
        "      moved = True\n",
        "\n",
        "    elif value == 2 and prev != 3:\n",
        "      prev = 2\n",
        "      posy += 1\n",
        "      steps_taken += 1\n",
        "      moved = True\n",
        "\n",
        "    elif value == 3 and prev != 2:\n",
        "      prev = 3\n",
        "      posy -= 1\n",
        "      steps_taken += 1\n",
        "      moved = True\n",
        "\n",
        "    else:\n",
        "      moved = False\n",
        "\n",
        "    if moved:\n",
        "      if [posx, posy] in visited: # add posz and posw\n",
        "        break\n",
        "      else:\n",
        "        visited.append([posx,posy]) # add posz and posw\n",
        "        x.append(posx)\n",
        "        y.append(posy)\n",
        "\n",
        "\n",
        "  # Squared euclidian distances\n",
        "  Rval = np.sum(np.array([posx, posy]) ** 2) # add posz and posw\n",
        "\n",
        "  # Add Rval to rList as integer\n",
        "  rList.append(Rval)\n",
        "\n",
        "  # Add number of steps in this run to appropriate list\n",
        "  rNumber.append(steps_taken)"
      ],
      "execution_count": 37,
      "outputs": []
    },
    {
      "cell_type": "markdown",
      "metadata": {
        "id": "7UpJf0qKfoVo"
      },
      "source": [
        "# Visualization & Calculations"
      ]
    },
    {
      "cell_type": "code",
      "metadata": {
        "id": "IoVdIqqFfcJj",
        "outputId": "ddea5bce-cab2-48e3-d4c6-9f7605a7a8d9",
        "colab": {
          "base_uri": "https://localhost:8080/",
          "height": 316
        }
      },
      "source": [
        "mean_n = np.mean(rNumber) # this is mean steps taken\n",
        "mean_v = np.mean(rList) # this is mean Rval\n",
        "p = np.log(mean_v)/np.log(mean_n) # this is p value\n",
        "\n",
        "\n",
        "# Print values\n",
        "print('Mean steps taken: ' + str(mean_n))\n",
        "print('Mean rVal computed: ' + str(mean_v))\n",
        "print('p-value: ' + str(p))\n",
        "\n",
        "# Visualize steps\n",
        "fig = plt.figure()\n",
        "plt.plot(x, y)\n",
        "plt.show()"
      ],
      "execution_count": 39,
      "outputs": [
        {
          "output_type": "stream",
          "text": [
            "Mean steps taken: 14.66\n",
            "Mean rVal computed: 32.17\n",
            "p-value: 1.2926911480912935\n"
          ],
          "name": "stdout"
        },
        {
          "output_type": "display_data",
          "data": {
            "image/png": "[encoded data removed]",
            "text/plain": [
              "<Figure size 432x288 with 1 Axes>"
            ]
          },
          "metadata": {
            "tags": [],
            "needs_background": "light"
          }
        }
      ]
    },
    {
      "cell_type": "code",
      "metadata": {
        "id": "kFGQ6yeKdQU-"
      },
      "source": [
        "    #elif value == 4 and prev != 5:\n",
        "      #prev = 4\n",
        "      #posz += 1\n",
        "      #steps_taken += 1\n",
        "      #moved = True\n",
        "\n",
        "    #elif value == 5 and prev != 4:\n",
        "      #prev = 5\n",
        "      #posz -= 1\n",
        "      #steps_taken += 1\n",
        "      #moved = True\n",
        "\n",
        "    #elif value == 6 and prev != 7:\n",
        "        #prev = 6\n",
        "        #posw += 1\n",
        "        #steps_taken += 1\n",
        "        #moved = True\n",
        "\n",
        "    #elif value == 7 and prev != 6:\n",
        "        #prev = 7\n",
        "        #posw += 1\n",
        "        #steps_taken += 1\n",
        "        #moved = True\n",
        "    # add posz and posw\n",
        "\n",
        "\n",
        "c = Counter(rNumber)\n",
        "print(\"This is c(N) \" + str(c[N]))\n",
        "w = c[N]/float(n)\n",
        "print(\"This is W \" + str(w))\n",
        "d = 2 # change to dimensions\n",
        "\n",
        "\n",
        "#omg = w*((2*d)-1)**(N-2)\n",
        "#s = np.log(omg)/float(N-2)"
      ],
      "execution_count": null,
      "outputs": []
    }
  ]
}