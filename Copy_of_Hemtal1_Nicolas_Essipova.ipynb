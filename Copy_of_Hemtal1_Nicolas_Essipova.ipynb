{
  "nbformat": 4,
  "nbformat_minor": 0,
  "metadata": {
    "colab": {
      "name": "Copy of Hemtal1 - Nicolas Essipova.ipynb",
      "version": "0.3.2",
      "provenance": [],
      "include_colab_link": true
    },
    "kernelspec": {
      "name": "python3",
      "display_name": "Python 3"
    }
  },
  "cells": [
    {
      "cell_type": "markdown",
      "metadata": {
        "id": "view-in-github",
        "colab_type": "text"
      },
      "source": [
        "<a href=\"https://colab.research.google.com/github/NicoEssi/Uncategorized_Code/blob/master/Copy_of_Hemtal1_Nicolas_Essipova.ipynb\" target=\"_parent\"><img src=\"https://colab.research.google.com/assets/colab-badge.svg\" alt=\"Open In Colab\"/></a>"
      ]
    },
    {
      "cell_type": "markdown",
      "metadata": {
        "id": "Ghw_W1R7aMdB",
        "colab_type": "text"
      },
      "source": [
        "## 1. Vi börjar med att definiera funktionen som ger oss gamma"
      ]
    },
    {
      "cell_type": "code",
      "metadata": {
        "id": "9MPyUefcLpyV",
        "colab_type": "code",
        "outputId": "2f1aeb8e-adb7-4f7d-a1db-06e979704c1a",
        "colab": {
          "base_uri": "https://localhost:8080/",
          "height": 85
        }
      },
      "source": [
        "import numpy as np\n",
        "\n",
        "def gamma_function(speed):\n",
        "    gamma = 1 / (np.sqrt( 1- ( (speed**2)/1 )))\n",
        "    return gamma"
      ],
      "execution_count": 0,
      "outputs": [
        {
          "output_type": "stream",
          "text": [
            "/usr/local/lib/python3.6/dist-packages/ipykernel_launcher.py:4: RuntimeWarning: divide by zero encountered in true_divide\n",
            "  after removing the cwd from sys.path.\n"
          ],
          "name": "stderr"
        },
        {
          "output_type": "execute_result",
          "data": {
            "text/plain": [
              "array([1.00503782, 1.02062073, 1.04828484, 1.09108945, 1.15470054,\n",
              "       1.25      , 1.40028008, 1.66666667, 2.29415734,        inf])"
            ]
          },
          "metadata": {
            "tags": []
          },
          "execution_count": 11
        }
      ]
    },
    {
      "cell_type": "markdown",
      "metadata": {
        "id": "9gajIUjAaUqA",
        "colab_type": "text"
      },
      "source": [
        "## 2. Nu får vi fram vektorn med hastigheterna från 0.1c till c med intervallet 0.1c, samt beräknar gamma för varje hastighet."
      ]
    },
    {
      "cell_type": "code",
      "metadata": {
        "id": "TG1e3Uz0ZzLl",
        "colab_type": "code",
        "colab": {}
      },
      "source": [
        "i = np.arange(0.1, 1.1, 0.1)\n",
        "\n",
        "g = gamma_function(i)"
      ],
      "execution_count": 0,
      "outputs": []
    },
    {
      "cell_type": "markdown",
      "metadata": {
        "id": "vPpJZKc6ai-z",
        "colab_type": "text"
      },
      "source": [
        "## 3. Nu plottar vi gamma faktorn mot hastigheten, och plottade kurvan är röd"
      ]
    },
    {
      "cell_type": "code",
      "metadata": {
        "id": "NaXNBaMNYaOq",
        "colab_type": "code",
        "outputId": "f3316ce5-64c3-4887-a93b-361754b4defa",
        "colab": {
          "base_uri": "https://localhost:8080/",
          "height": 286
        }
      },
      "source": [
        "import matplotlib.pyplot as plt\n",
        "\n",
        "plt.plot(i, g, color = \"red\")\n",
        "plt.show"
      ],
      "execution_count": 0,
      "outputs": [
        {
          "output_type": "execute_result",
          "data": {
            "text/plain": [
              "<function matplotlib.pyplot.show>"
            ]
          },
          "metadata": {
            "tags": []
          },
          "execution_count": 13
        },
        {
          "output_type": "display_data",
          "data": {
            "image/png": "[encoded data removed]",
            "text/plain": [
              "<Figure size 432x288 with 1 Axes>"
            ]
          },
          "metadata": {
            "tags": []
          }
        }
      ]
    }
  ]
}