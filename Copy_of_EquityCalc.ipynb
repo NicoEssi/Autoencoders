{
  "nbformat": 4,
  "nbformat_minor": 0,
  "metadata": {
    "colab": {
      "name": "Copy of EquityCalc.ipynb",
      "provenance": [],
      "authorship_tag": "ABX9TyOVXCltwPobdl8yb8/jvRDf",
      "include_colab_link": true
    },
    "kernelspec": {
      "name": "python3",
      "display_name": "Python 3"
    }
  },
  "cells": [
    {
      "cell_type": "markdown",
      "metadata": {
        "id": "view-in-github",
        "colab_type": "text"
      },
      "source": [
        "<a href=\"https://colab.research.google.com/github/NicoEssi/Uncategorized_Code/blob/master/Copy_of_EquityCalc.ipynb\" target=\"_parent\"><img src=\"https://colab.research.google.com/assets/colab-badge.svg\" alt=\"Open In Colab\"/></a>"
      ]
    },
    {
      "cell_type": "code",
      "metadata": {
        "id": "pmHgUDyyfyBH"
      },
      "source": [
        "J_final = 0.50\n",
        "N_final = 1 - J_final\n",
        "\n",
        "def payout(year, valuation, dilution):\n",
        "  \n",
        "  # Josh's vested relative equity\n",
        "  if year <= 1:\n",
        "    J_vested = (J_final/2) + (J_final/4)*year\n",
        "  else:\n",
        "    J_vested = J_final\n",
        "\n",
        "  # Nicolas' vested relative equity\n",
        "  if year <= 3:\n",
        "    N_vested = (N_final/4)*year\n",
        "  else:\n",
        "    N_vested = N_final\n",
        "\n",
        "  # Compute relative equity split\n",
        "  # (equals actual split post-vesting)\n",
        "  J_ratio = J_vested / (J_vested + N_vested)\n",
        "  N_ratio = N_vested / (J_vested + N_vested)\n",
        "\n",
        "  # Compute equity value based on valuation\n",
        "  A_vested = 0.15 # Aman's assumed vested equity\n",
        "  J_value = valuation * J_ratio * (1.0 - dilution) * (1.0 - A_vested)\n",
        "  N_value = valuation * N_ratio * (1.0 - dilution) * (1.0 - A_vested)\n",
        "\n",
        "  # Results\n",
        "  print(\"Josh)\\nRelative equity: \" + str(J_ratio) +\n",
        "        \"\\nValuation: \" + str(J_value) + \"k\" +\n",
        "        \"\\n\\nNico)\\nRelative equity: \" + str(N_ratio) +\n",
        "        \"\\nValuation: \" + str(N_value) + \"k\\n\\n\\n\")"
      ],
      "execution_count": null,
      "outputs": []
    },
    {
      "cell_type": "code",
      "metadata": {
        "id": "F4nnvJL_f-pz",
        "outputId": "5557150a-c599-4a01-e1f5-025c92659b6f",
        "colab": {
          "base_uri": "https://localhost:8080/",
          "height": 1000
        }
      },
      "source": [
        "for i in range(5):\n",
        "  print(\"Year \" + str(i))\n",
        "  print(\"Valuation: \" + str(i*i*10) + \"mm\")\n",
        "  payout(i, i*i*10000, 0.15)"
      ],
      "execution_count": null,
      "outputs": [
        {
          "output_type": "stream",
          "text": [
            "Year 0\n",
            "Valuation: 0mm\n",
            "Josh)\n",
            "Relative equity: 1.0\n",
            "Valuation: 0.0k\n",
            "\n",
            "Nico)\n",
            "Relative equity: 0.0\n",
            "Valuation: 0.0k\n",
            "\n",
            "\n",
            "\n",
            "Year 1\n",
            "Valuation: 10mm\n",
            "Josh)\n",
            "Relative equity: 0.75\n",
            "Valuation: 5418.75k\n",
            "\n",
            "Nico)\n",
            "Relative equity: 0.25\n",
            "Valuation: 1806.25k\n",
            "\n",
            "\n",
            "\n",
            "Year 2\n",
            "Valuation: 40mm\n",
            "Josh)\n",
            "Relative equity: 0.6666666666666666\n",
            "Valuation: 19266.666666666664k\n",
            "\n",
            "Nico)\n",
            "Relative equity: 0.3333333333333333\n",
            "Valuation: 9633.333333333332k\n",
            "\n",
            "\n",
            "\n",
            "Year 3\n",
            "Valuation: 90mm\n",
            "Josh)\n",
            "Relative equity: 0.5714285714285714\n",
            "Valuation: 37157.142857142855k\n",
            "\n",
            "Nico)\n",
            "Relative equity: 0.42857142857142855\n",
            "Valuation: 27867.857142857138k\n",
            "\n",
            "\n",
            "\n",
            "Year 4\n",
            "Valuation: 160mm\n",
            "Josh)\n",
            "Relative equity: 0.5\n",
            "Valuation: 57800.0k\n",
            "\n",
            "Nico)\n",
            "Relative equity: 0.5\n",
            "Valuation: 57800.0k\n",
            "\n",
            "\n",
            "\n"
          ],
          "name": "stdout"
        }
      ]
    }
  ]
}