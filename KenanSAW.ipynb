{
  "nbformat": 4,
  "nbformat_minor": 0,
  "metadata": {
    "colab": {
      "name": "KenanSAW.ipynb",
      "provenance": [],
      "collapsed_sections": [],
      "authorship_tag": "ABX9TyPf6z8HRQB9Dwkfuq4QbxG3",
      "include_colab_link": true
    },
    "kernelspec": {
      "name": "python3",
      "display_name": "Python 3"
    }
  },
  "cells": [
    {
      "cell_type": "markdown",
      "metadata": {
        "id": "view-in-github",
        "colab_type": "text"
      },
      "source": [
        "<a href=\"https://colab.research.google.com/github/NicoEssi/Uncategorized_Code/blob/master/KenanSAW.ipynb\" target=\"_parent\"><img src=\"https://colab.research.google.com/assets/colab-badge.svg\" alt=\"Open In Colab\"/></a>"
      ]
    },
    {
      "cell_type": "markdown",
      "metadata": {
        "id": "wQwwu7ajeenH",
        "colab_type": "text"
      },
      "source": [
        "## Import Dependencies"
      ]
    },
    {
      "cell_type": "code",
      "metadata": {
        "id": "O_EhXEq4ecVQ",
        "colab_type": "code",
        "colab": {}
      },
      "source": [
        "import pylab\n",
        "import os\n",
        "import math\n",
        "from pylab import *\n",
        "from mpl_toolkits.mplot3d import Axes3D\n",
        "import numpy as np\n",
        "import matplotlib.pyplot as plt\n",
        "import random\n",
        "from random import seed\n",
        "from random import randint"
      ],
      "execution_count": 0,
      "outputs": []
    },
    {
      "cell_type": "markdown",
      "metadata": {
        "id": "MBi288YpehD3",
        "colab_type": "text"
      },
      "source": [
        "## First Assignment"
      ]
    },
    {
      "cell_type": "code",
      "metadata": {
        "id": "1giy0jXWeond",
        "colab_type": "code",
        "colab": {}
      },
      "source": [
        "# Number of runs\n",
        "n = 100\n",
        "\n",
        "# Number of steps\n",
        "N = 10000\n",
        "\n",
        "# Recorded positions\n",
        "rList = []\n",
        "\n",
        "# Number of runs\n",
        "rNumber = []"
      ],
      "execution_count": 0,
      "outputs": []
    },
    {
      "cell_type": "code",
      "metadata": {
        "id": "NRA_n0_2disG",
        "colab_type": "code",
        "colab": {}
      },
      "source": [
        "for ii in range(n):\n",
        "  # Stored previous locations\n",
        "  visited = []\n",
        "  steps_taken = 0\n",
        "  prev = None\n",
        "  moved = False\n",
        "\n",
        "  # Starting position\n",
        "  posx = 0\n",
        "  posy = 0\n",
        "  # posz\n",
        "  # posw\n",
        "  visited.append([posx, posy]) # samma\n",
        "\n",
        "  # Take N steps in stochastic directions\n",
        "  for jj in range(N):\n",
        "    value = random.randint(0,3)\n",
        "    if value == 0 and prev != 1:\n",
        "      prev = 0\n",
        "      posx += 1\n",
        "      steps_taken += 1\n",
        "      moved = True\n",
        "\n",
        "    elif value == 1 and prev != 0:\n",
        "      prev = 1\n",
        "      posx -= 1\n",
        "      steps_taken += 1\n",
        "      moved = True\n",
        "\n",
        "    elif value == 2 and prev != 3:\n",
        "      prev = 2\n",
        "      posy += 1\n",
        "      steps_taken += 1\n",
        "      moved = True\n",
        "\n",
        "    elif value == 3 and prev != 2:\n",
        "      prev = 3\n",
        "      posy -= 1\n",
        "      steps_taken += 1\n",
        "      moved = True\n",
        "\n",
        "    # add posz and posw\n",
        "\n",
        "    else:\n",
        "      moved = False\n",
        "\n",
        "    if moved:\n",
        "      if [posx, posy] in visited: # add posz and posw\n",
        "        break\n",
        "      else:\n",
        "        visited.append([posx,posy]) # add posz and posw\n",
        "\n",
        "\n",
        "  # Squared euclidian distances\n",
        "  Rval = np.sum(np.array([posx, posy]) ** 2) # add posz and posw\n",
        "\n",
        "  # Add Rval to posList as integer\n",
        "  rList.append(Rval)\n",
        "\n",
        "  # Add number of steps in this run to appropriate list\n",
        "  rNumber.append(steps_taken)\n"
      ],
      "execution_count": 0,
      "outputs": []
    },
    {
      "cell_type": "code",
      "metadata": {
        "id": "YfboLWOF14K5",
        "colab_type": "code",
        "colab": {
          "base_uri": "https://localhost:8080/",
          "height": 34
        },
        "outputId": "6c69ea1d-7c97-40a0-dbb8-19f7fb68395a"
      },
      "source": [
        "np.mean(rNumber)"
      ],
      "execution_count": 82,
      "outputs": [
        {
          "output_type": "execute_result",
          "data": {
            "text/plain": [
              "14.69"
            ]
          },
          "metadata": {
            "tags": []
          },
          "execution_count": 82
        }
      ]
    },
    {
      "cell_type": "code",
      "metadata": {
        "id": "j0rCoSCguLJg",
        "colab_type": "code",
        "colab": {}
      },
      "source": [
        "mean_n = np.mean(rNumber)"
      ],
      "execution_count": 0,
      "outputs": []
    },
    {
      "cell_type": "code",
      "metadata": {
        "id": "5dlMw33Hea5-",
        "colab_type": "code",
        "colab": {
          "base_uri": "https://localhost:8080/",
          "height": 34
        },
        "outputId": "4ef7e187-9628-4fcd-fb83-6248f2f2346b"
      },
      "source": [
        "mean_v = np.mean(rList)\n",
        "mean_v"
      ],
      "execution_count": 84,
      "outputs": [
        {
          "output_type": "execute_result",
          "data": {
            "text/plain": [
              "29.51"
            ]
          },
          "metadata": {
            "tags": []
          },
          "execution_count": 84
        }
      ]
    },
    {
      "cell_type": "code",
      "metadata": {
        "id": "9ezTgGhOkeO0",
        "colab_type": "code",
        "colab": {
          "base_uri": "https://localhost:8080/",
          "height": 34
        },
        "outputId": "790c584c-83c9-410f-e1d2-599195aff341"
      },
      "source": [
        "p = np.log(mean_v)/np.log(mean_n)\n",
        "\n",
        "p"
      ],
      "execution_count": 85,
      "outputs": [
        {
          "output_type": "execute_result",
          "data": {
            "text/plain": [
              "1.2595901934329858"
            ]
          },
          "metadata": {
            "tags": []
          },
          "execution_count": 85
        }
      ]
    },
    {
      "cell_type": "code",
      "metadata": {
        "id": "M7G_h34Y1-P8",
        "colab_type": "code",
        "colab": {
          "base_uri": "https://localhost:8080/",
          "height": 34
        },
        "outputId": "67895722-4cdb-428b-b42e-6c587684927a"
      },
      "source": [
        "c[8]"
      ],
      "execution_count": 90,
      "outputs": [
        {
          "output_type": "execute_result",
          "data": {
            "text/plain": [
              "3"
            ]
          },
          "metadata": {
            "tags": []
          },
          "execution_count": 90
        }
      ]
    },
    {
      "cell_type": "code",
      "metadata": {
        "id": "hLRmNu3uz9ke",
        "colab_type": "code",
        "colab": {
          "base_uri": "https://localhost:8080/",
          "height": 266
        },
        "outputId": "e59972e7-1eb4-4ef7-bf94-085cf7289f01"
      },
      "source": [
        "from collections import Counter\n",
        "\n",
        "c = Counter(rNumber)\n",
        "print(c[N])\n",
        "w = c[N]/float(n)\n",
        "print(w)\n",
        "d = 2 # change to dimensions\n",
        "\n",
        "\n",
        "omg = w*((2*d)-1)**(N-2)\n",
        "s = np.log(omg)/float(N-2)\n",
        "print (\"Ratio successful runs: \" + str(w))\n",
        "print (\"Entropy is: \" + str(s))\n",
        "print (mean_n)"
      ],
      "execution_count": 87,
      "outputs": [
        {
          "output_type": "stream",
          "text": [
            "0\n",
            "0.0\n"
          ],
          "name": "stdout"
        },
        {
          "output_type": "error",
          "ename": "OverflowError",
          "evalue": "ignored",
          "traceback": [
            "\u001b[0;31m---------------------------------------------------------------------------\u001b[0m",
            "\u001b[0;31mOverflowError\u001b[0m                             Traceback (most recent call last)",
            "\u001b[0;32m<ipython-input-87-df616ec68782>\u001b[0m in \u001b[0;36m<module>\u001b[0;34m()\u001b[0m\n\u001b[1;32m      8\u001b[0m \u001b[0;34m\u001b[0m\u001b[0m\n\u001b[1;32m      9\u001b[0m \u001b[0;34m\u001b[0m\u001b[0m\n\u001b[0;32m---> 10\u001b[0;31m \u001b[0momg\u001b[0m \u001b[0;34m=\u001b[0m \u001b[0mw\u001b[0m\u001b[0;34m*\u001b[0m\u001b[0;34m(\u001b[0m\u001b[0;34m(\u001b[0m\u001b[0;36m2\u001b[0m\u001b[0;34m*\u001b[0m\u001b[0md\u001b[0m\u001b[0;34m)\u001b[0m\u001b[0;34m-\u001b[0m\u001b[0;36m1\u001b[0m\u001b[0;34m)\u001b[0m\u001b[0;34m**\u001b[0m\u001b[0;34m(\u001b[0m\u001b[0mN\u001b[0m\u001b[0;34m-\u001b[0m\u001b[0;36m2\u001b[0m\u001b[0;34m)\u001b[0m\u001b[0;34m\u001b[0m\u001b[0;34m\u001b[0m\u001b[0m\n\u001b[0m\u001b[1;32m     11\u001b[0m \u001b[0ms\u001b[0m \u001b[0;34m=\u001b[0m \u001b[0mnp\u001b[0m\u001b[0;34m.\u001b[0m\u001b[0mlog\u001b[0m\u001b[0;34m(\u001b[0m\u001b[0momg\u001b[0m\u001b[0;34m)\u001b[0m\u001b[0;34m/\u001b[0m\u001b[0mfloat\u001b[0m\u001b[0;34m(\u001b[0m\u001b[0mN\u001b[0m\u001b[0;34m-\u001b[0m\u001b[0;36m2\u001b[0m\u001b[0;34m)\u001b[0m\u001b[0;34m\u001b[0m\u001b[0;34m\u001b[0m\u001b[0m\n\u001b[1;32m     12\u001b[0m \u001b[0mprint\u001b[0m \u001b[0;34m(\u001b[0m\u001b[0;34m\"Ratio successful runs: \"\u001b[0m \u001b[0;34m+\u001b[0m \u001b[0mstr\u001b[0m\u001b[0;34m(\u001b[0m\u001b[0mw\u001b[0m\u001b[0;34m)\u001b[0m\u001b[0;34m)\u001b[0m\u001b[0;34m\u001b[0m\u001b[0;34m\u001b[0m\u001b[0m\n",
            "\u001b[0;31mOverflowError\u001b[0m: int too large to convert to float"
          ]
        }
      ]
    }
  ]
}