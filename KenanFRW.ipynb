{
  "nbformat": 4,
  "nbformat_minor": 0,
  "metadata": {
    "colab": {
      "name": "KenanFRW.ipynb",
      "provenance": [],
      "collapsed_sections": [],
      "authorship_tag": "ABX9TyMvlld2Uk787+tot3ez/wcv",
      "include_colab_link": true
    },
    "kernelspec": {
      "name": "python3",
      "display_name": "Python 3"
    }
  },
  "cells": [
    {
      "cell_type": "markdown",
      "metadata": {
        "id": "view-in-github",
        "colab_type": "text"
      },
      "source": [
        "<a href=\"https://colab.research.google.com/github/NicoEssi/Uncategorized_Code/blob/master/KenanFRW.ipynb\" target=\"_parent\"><img src=\"https://colab.research.google.com/assets/colab-badge.svg\" alt=\"Open In Colab\"/></a>"
      ]
    },
    {
      "cell_type": "markdown",
      "metadata": {
        "id": "wQwwu7ajeenH",
        "colab_type": "text"
      },
      "source": [
        "## Import Dependencies"
      ]
    },
    {
      "cell_type": "code",
      "metadata": {
        "id": "O_EhXEq4ecVQ",
        "colab_type": "code",
        "colab": {}
      },
      "source": [
        "import pylab\n",
        "import os\n",
        "import math\n",
        "from pylab import *\n",
        "from mpl_toolkits.mplot3d import Axes3D\n",
        "import numpy as np\n",
        "import matplotlib.pyplot as plt\n",
        "import random\n",
        "from random import seed\n",
        "from random import randint"
      ],
      "execution_count": 0,
      "outputs": []
    },
    {
      "cell_type": "markdown",
      "metadata": {
        "id": "MBi288YpehD3",
        "colab_type": "text"
      },
      "source": [
        "## First Assignment"
      ]
    },
    {
      "cell_type": "code",
      "metadata": {
        "id": "1giy0jXWeond",
        "colab_type": "code",
        "colab": {}
      },
      "source": [
        "# Number of runs\n",
        "n = 1000\n",
        "\n",
        "# Number of steps\n",
        "N = 10000\n",
        "\n",
        "# Recorded positions\n",
        "rList = []"
      ],
      "execution_count": 0,
      "outputs": []
    },
    {
      "cell_type": "code",
      "metadata": {
        "id": "NRA_n0_2disG",
        "colab_type": "code",
        "colab": {}
      },
      "source": [
        "for ii in range(n):\n",
        "  # Starting position\n",
        "  posx = 0\n",
        "  posy = 0\n",
        "\n",
        "  # Record individual positions\n",
        "  x = []\n",
        "  y = []\n",
        "\n",
        "\n",
        "  # Take N steps in stochastic directions\n",
        "  for jj in range(N):\n",
        "    value = random.randint(0,3)\n",
        "    if value == 0:\n",
        "      posx += 1\n",
        "\n",
        "    elif value == 1:\n",
        "      posx -= 1\n",
        "\n",
        "    elif value == 2:\n",
        "      posy += 1\n",
        "\n",
        "    elif value == 3:\n",
        "      posy -= 1\n",
        "\n",
        "  # Append new positions to appropriate lists\n",
        "    x.append(posx)\n",
        "    y.append(posy)\n",
        "\n",
        "  # Squared euclidian distances\n",
        "  Rval = np.sum(np.array([posx, posy]) ** 2)\n",
        "\n",
        "  # Add Rval to posList as integer\n",
        "  rList.append(Rval)\n"
      ],
      "execution_count": 0,
      "outputs": []
    },
    {
      "cell_type": "code",
      "metadata": {
        "id": "5dlMw33Hea5-",
        "colab_type": "code",
        "colab": {
          "base_uri": "https://localhost:8080/",
          "height": 34
        },
        "outputId": "38929097-87f7-4ded-beb1-1440efad7857"
      },
      "source": [
        "mean_v = np.mean(rList)\n",
        "\n",
        "p = np.log(mean_v)/np.log(N)\n",
        "\n",
        "p"
      ],
      "execution_count": 12,
      "outputs": [
        {
          "output_type": "execute_result",
          "data": {
            "text/plain": [
              "0.9981792081083228"
            ]
          },
          "metadata": {
            "tags": []
          },
          "execution_count": 12
        }
      ]
    },
    {
      "cell_type": "code",
      "metadata": {
        "id": "9ezTgGhOkeO0",
        "colab_type": "code",
        "colab": {
          "base_uri": "https://localhost:8080/",
          "height": 265
        },
        "outputId": "241d3f15-4923-4964-eb92-746f6c1ab817"
      },
      "source": [
        "fig = plt.figure()\n",
        "plt.plot(x,y)\n",
        "plt.show()"
      ],
      "execution_count": 14,
      "outputs": [
        {
          "output_type": "display_data",
          "data": {
            "image/png": "[encoded data removed]",
            "text/plain": [
              "<Figure size 432x288 with 1 Axes>"
            ]
          },
          "metadata": {
            "tags": []
          }
        }
      ]
    }
  ]
}