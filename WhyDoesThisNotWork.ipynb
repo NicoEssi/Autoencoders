{
  "nbformat": 4,
  "nbformat_minor": 0,
  "metadata": {
    "colab": {
      "name": "Untitled3.ipynb",
      "provenance": [],
      "authorship_tag": "ABX9TyMCZtzw3EsXLKsU1XA8uJ2Z",
      "include_colab_link": true
    },
    "kernelspec": {
      "name": "python3",
      "display_name": "Python 3"
    }
  },
  "cells": [
    {
      "cell_type": "markdown",
      "metadata": {
        "id": "view-in-github",
        "colab_type": "text"
      },
      "source": [
        "<a href=\"https://colab.research.google.com/github/NicoEssi/Uncategorized_Code/blob/master/WhyDoesThisNotWork.ipynb\" target=\"_parent\"><img src=\"https://colab.research.google.com/assets/colab-badge.svg\" alt=\"Open In Colab\"/></a>"
      ]
    },
    {
      "cell_type": "code",
      "metadata": {
        "id": "v6mMlz-qPZmj"
      },
      "source": [
        "## Import Dependencies\n",
        "import pylab\n",
        "import os\n",
        "import math\n",
        "from pylab import *\n",
        "from mpl_toolkits.mplot3d import Axes3D\n",
        "import numpy as np\n",
        "import matplotlib.pyplot as plt\n",
        "import random\n",
        "from random import seed\n",
        "from random import randint\n",
        "from decimal import Decimal\n",
        "from collections import Counter"
      ],
      "execution_count": 9,
      "outputs": []
    },
    {
      "cell_type": "code",
      "metadata": {
        "id": "qWdeSoraPaXg"
      },
      "source": [
        "def valid_dir(visited_locations, current_location):\n",
        "  validdir = True\n",
        "  for visited_location in visited_locations:\n",
        "    #print(str(visited_location) + ' == ' + str(current_location) + ' : ' + str(visited_location != current_location)) #debug\n",
        "    if visited_location == current_location:\n",
        "      validdir = False\n",
        "  return validdir"
      ],
      "execution_count": 10,
      "outputs": []
    },
    {
      "cell_type": "code",
      "metadata": {
        "id": "Zi640BnSRNWG"
      },
      "source": [
        "# Parameters\n",
        "n = 1000 # Number of runs\n",
        "N = 100 # Number of steps\n",
        "# =====================\n",
        "rList = [] # Recorded end positions for each run\n",
        "rNumber = [] # Number of runs taken\n",
        "Steps = [] # Number of steps taken during each run\n",
        "Finished = 0 # debugging purposes; how many full steps were taken\n",
        "# ====================="
      ],
      "execution_count": 26,
      "outputs": []
    },
    {
      "cell_type": "code",
      "metadata": {
        "id": "qqvBoNJSRkoq",
        "outputId": "069744ba-dc50-48d9-9a36-e0f8a30152af",
        "colab": {
          "base_uri": "https://localhost:8080/",
          "height": 375
        }
      },
      "source": [
        "for r in range(n):\n",
        "  # Initialize placeholders\n",
        "  prev = None\n",
        "  moved = False #Unused in biased walk\n",
        "  visited = []\n",
        "  steps_taken = 0\n",
        "\n",
        "  # Starting position\n",
        "  posx = 0\n",
        "  posy = 0\n",
        "  visited.append([posx, posy])\n",
        "\n",
        "  # Execute all steps within the run\n",
        "  for R in range(N):\n",
        "    dead_directions = []\n",
        "    collision = False\n",
        "\n",
        "    while True:\n",
        "      value = random.randint(0,3) # Random step in x or y direction\n",
        "\n",
        "      # Check for positive x-direction\n",
        "      if value == 0 and prev != 1 and value not in dead_directions:\n",
        "        if valid_dir(visited, [posx+1, posy]):\n",
        "          # update our values\n",
        "          posx += 1\n",
        "          visited.append([posx, posy])\n",
        "          break\n",
        "        else:\n",
        "          dead_directions.append(value)\n",
        "\n",
        "      elif value == 1 and prev != 0 and value not in dead_directions:\n",
        "        if valid_dir(visited, [posx-1, posy]):\n",
        "          # update our values\n",
        "          posx -= 1\n",
        "          visited.append([posx, posy])\n",
        "          break\n",
        "        else:\n",
        "          dead_directions.append(value)\n",
        "\n",
        "      elif value == 2 and prev != 3 and value not in dead_directions:\n",
        "        if valid_dir(visited, [posx, posy+1]):\n",
        "          # update our values\n",
        "          posy += 1\n",
        "          visited.append([posx, posy])\n",
        "        else:\n",
        "          dead_directions.append(value)\n",
        "\n",
        "      elif value == 3 and prev != 2 and value not in dead_directions:\n",
        "        if valid_dir(visited, [posx, posy-1]):\n",
        "          # update our values\n",
        "          posy -= 1\n",
        "          visited.append([posx, posy])\n",
        "        else:\n",
        "          dead_directions.append(value)\n",
        "\n",
        "      if len(dead_directions) == 3:\n",
        "        collision = True\n",
        "\n",
        "      steps_taken += 1\n",
        "\n",
        "  Steps.append(steps_taken)\n",
        "  Rval = np.sum(np.array([posx, posy]) ** 2)\n",
        "  rList.append(Rval)"
      ],
      "execution_count": 27,
      "outputs": [
        {
          "output_type": "error",
          "ename": "KeyboardInterrupt",
          "evalue": "ignored",
          "traceback": [
            "\u001b[0;31m---------------------------------------------------------------------------\u001b[0m",
            "\u001b[0;31mKeyboardInterrupt\u001b[0m                         Traceback (most recent call last)",
            "\u001b[0;32m<ipython-input-27-d97c6c302fd7>\u001b[0m in \u001b[0;36m<module>\u001b[0;34m()\u001b[0m\n\u001b[1;32m     17\u001b[0m \u001b[0;34m\u001b[0m\u001b[0m\n\u001b[1;32m     18\u001b[0m     \u001b[0;32mwhile\u001b[0m \u001b[0;32mTrue\u001b[0m\u001b[0;34m:\u001b[0m\u001b[0;34m\u001b[0m\u001b[0;34m\u001b[0m\u001b[0m\n\u001b[0;32m---> 19\u001b[0;31m       \u001b[0mvalue\u001b[0m \u001b[0;34m=\u001b[0m \u001b[0mrandom\u001b[0m\u001b[0;34m.\u001b[0m\u001b[0mrandint\u001b[0m\u001b[0;34m(\u001b[0m\u001b[0;36m0\u001b[0m\u001b[0;34m,\u001b[0m\u001b[0;36m3\u001b[0m\u001b[0;34m)\u001b[0m \u001b[0;31m# Random step in x or y direction\u001b[0m\u001b[0;34m\u001b[0m\u001b[0;34m\u001b[0m\u001b[0m\n\u001b[0m\u001b[1;32m     20\u001b[0m \u001b[0;34m\u001b[0m\u001b[0m\n\u001b[1;32m     21\u001b[0m       \u001b[0;31m# Check for positive x-direction\u001b[0m\u001b[0;34m\u001b[0m\u001b[0;34m\u001b[0m\u001b[0;34m\u001b[0m\u001b[0m\n",
            "\u001b[0;32m/usr/lib/python3.6/random.py\u001b[0m in \u001b[0;36mrandint\u001b[0;34m(self, a, b)\u001b[0m\n\u001b[1;32m    219\u001b[0m         \"\"\"\n\u001b[1;32m    220\u001b[0m \u001b[0;34m\u001b[0m\u001b[0m\n\u001b[0;32m--> 221\u001b[0;31m         \u001b[0;32mreturn\u001b[0m \u001b[0mself\u001b[0m\u001b[0;34m.\u001b[0m\u001b[0mrandrange\u001b[0m\u001b[0;34m(\u001b[0m\u001b[0ma\u001b[0m\u001b[0;34m,\u001b[0m \u001b[0mb\u001b[0m\u001b[0;34m+\u001b[0m\u001b[0;36m1\u001b[0m\u001b[0;34m)\u001b[0m\u001b[0;34m\u001b[0m\u001b[0;34m\u001b[0m\u001b[0m\n\u001b[0m\u001b[1;32m    222\u001b[0m \u001b[0;34m\u001b[0m\u001b[0m\n\u001b[1;32m    223\u001b[0m     def _randbelow(self, n, int=int, maxsize=1<<BPF, type=type,\n",
            "\u001b[0;32m/usr/lib/python3.6/random.py\u001b[0m in \u001b[0;36mrandrange\u001b[0;34m(self, start, stop, step, _int)\u001b[0m\n\u001b[1;32m    195\u001b[0m         \u001b[0mwidth\u001b[0m \u001b[0;34m=\u001b[0m \u001b[0mistop\u001b[0m \u001b[0;34m-\u001b[0m \u001b[0mistart\u001b[0m\u001b[0;34m\u001b[0m\u001b[0;34m\u001b[0m\u001b[0m\n\u001b[1;32m    196\u001b[0m         \u001b[0;32mif\u001b[0m \u001b[0mstep\u001b[0m \u001b[0;34m==\u001b[0m \u001b[0;36m1\u001b[0m \u001b[0;32mand\u001b[0m \u001b[0mwidth\u001b[0m \u001b[0;34m>\u001b[0m \u001b[0;36m0\u001b[0m\u001b[0;34m:\u001b[0m\u001b[0;34m\u001b[0m\u001b[0;34m\u001b[0m\u001b[0m\n\u001b[0;32m--> 197\u001b[0;31m             \u001b[0;32mreturn\u001b[0m \u001b[0mistart\u001b[0m \u001b[0;34m+\u001b[0m \u001b[0mself\u001b[0m\u001b[0;34m.\u001b[0m\u001b[0m_randbelow\u001b[0m\u001b[0;34m(\u001b[0m\u001b[0mwidth\u001b[0m\u001b[0;34m)\u001b[0m\u001b[0;34m\u001b[0m\u001b[0;34m\u001b[0m\u001b[0m\n\u001b[0m\u001b[1;32m    198\u001b[0m         \u001b[0;32mif\u001b[0m \u001b[0mstep\u001b[0m \u001b[0;34m==\u001b[0m \u001b[0;36m1\u001b[0m\u001b[0;34m:\u001b[0m\u001b[0;34m\u001b[0m\u001b[0;34m\u001b[0m\u001b[0m\n\u001b[1;32m    199\u001b[0m             \u001b[0;32mraise\u001b[0m \u001b[0mValueError\u001b[0m\u001b[0;34m(\u001b[0m\u001b[0;34m\"empty range for randrange() (%d,%d, %d)\"\u001b[0m \u001b[0;34m%\u001b[0m \u001b[0;34m(\u001b[0m\u001b[0mistart\u001b[0m\u001b[0;34m,\u001b[0m \u001b[0mistop\u001b[0m\u001b[0;34m,\u001b[0m \u001b[0mwidth\u001b[0m\u001b[0;34m)\u001b[0m\u001b[0;34m)\u001b[0m\u001b[0;34m\u001b[0m\u001b[0;34m\u001b[0m\u001b[0m\n",
            "\u001b[0;32m/usr/lib/python3.6/random.py\u001b[0m in \u001b[0;36m_randbelow\u001b[0;34m(self, n, int, maxsize, type, Method, BuiltinMethod)\u001b[0m\n\u001b[1;32m    221\u001b[0m         \u001b[0;32mreturn\u001b[0m \u001b[0mself\u001b[0m\u001b[0;34m.\u001b[0m\u001b[0mrandrange\u001b[0m\u001b[0;34m(\u001b[0m\u001b[0ma\u001b[0m\u001b[0;34m,\u001b[0m \u001b[0mb\u001b[0m\u001b[0;34m+\u001b[0m\u001b[0;36m1\u001b[0m\u001b[0;34m)\u001b[0m\u001b[0;34m\u001b[0m\u001b[0;34m\u001b[0m\u001b[0m\n\u001b[1;32m    222\u001b[0m \u001b[0;34m\u001b[0m\u001b[0m\n\u001b[0;32m--> 223\u001b[0;31m     def _randbelow(self, n, int=int, maxsize=1<<BPF, type=type,\n\u001b[0m\u001b[1;32m    224\u001b[0m                    Method=_MethodType, BuiltinMethod=_BuiltinMethodType):\n\u001b[1;32m    225\u001b[0m         \u001b[0;34m\"Return a random int in the range [0,n).  Raises ValueError if n==0.\"\u001b[0m\u001b[0;34m\u001b[0m\u001b[0;34m\u001b[0m\u001b[0m\n",
            "\u001b[0;31mKeyboardInterrupt\u001b[0m: "
          ]
        }
      ]
    },
    {
      "cell_type": "code",
      "metadata": {
        "id": "eHRs4uvfj7ts",
        "outputId": "e244bdb1-75e6-4e93-a312-0b6406456383",
        "colab": {
          "base_uri": "https://localhost:8080/"
        }
      },
      "source": [
        "visited"
      ],
      "execution_count": 28,
      "outputs": [
        {
          "output_type": "execute_result",
          "data": {
            "text/plain": [
              "[[0, 0],\n",
              " [0, -1],\n",
              " [0, -2],\n",
              " [-1, -2],\n",
              " [-1, -1],\n",
              " [-1, 0],\n",
              " [-1, 1],\n",
              " [-2, 1],\n",
              " [-3, 1],\n",
              " [-4, 1],\n",
              " [-4, 2],\n",
              " [-5, 2],\n",
              " [-5, 1],\n",
              " [-6, 1],\n",
              " [-6, 2],\n",
              " [-7, 2],\n",
              " [-7, 3],\n",
              " [-8, 3],\n",
              " [-8, 4],\n",
              " [-8, 5],\n",
              " [-8, 6],\n",
              " [-8, 7],\n",
              " [-8, 8],\n",
              " [-8, 9],\n",
              " [-8, 10],\n",
              " [-7, 10],\n",
              " [-7, 11],\n",
              " [-6, 11],\n",
              " [-6, 10],\n",
              " [-6, 9],\n",
              " [-5, 9],\n",
              " [-5, 8],\n",
              " [-5, 7],\n",
              " [-4, 7],\n",
              " [-3, 7],\n",
              " [-3, 8],\n",
              " [-3, 9],\n",
              " [-4, 9],\n",
              " [-4, 8]]"
            ]
          },
          "metadata": {
            "tags": []
          },
          "execution_count": 28
        }
      ]
    },
    {
      "cell_type": "code",
      "metadata": {
        "id": "vN7hug2fRpo4",
        "outputId": "a76b3eac-48c0-4964-f582-fd6b14dcb108",
        "colab": {
          "base_uri": "https://localhost:8080/",
          "height": 452
        }
      },
      "source": [
        "# Compute values\n",
        "mean_n = np.mean(rNumber) # this is mean steps taken\n",
        "mean_v = np.mean(rList) # this is mean Rval\n",
        "p = np.log(mean_v)/np.log(mean_n) # this is p value\n",
        "\n",
        "# Print values\n",
        "print('Mean steps taken: ' + str(mean_n))\n",
        "print('Mean rVal computed: ' + str(mean_v))\n",
        "print('p-value: ' + str(p))\n",
        "\n",
        "# Compute entropy\n",
        "c = Counter(Steps)\n",
        "print(\"This is c(N) \" + str(c[N]))\n",
        "w = c[N]/float(n)\n",
        "print(\"This is W \" + str(w))\n",
        "d = 2 # change to dimensions\n",
        "\n",
        "omg = w*((2*d)-1)**(N-2)\n",
        "s = np.log(omg)/float(N-2)\n",
        "print('s = ' + str(s))\n",
        "\n",
        "# Compute and visualize distribution\n",
        "xa = []\n",
        "ya = []\n",
        "for i in range(N+1):\n",
        "  xa.append(i)\n",
        "  ya.append(c[i])\n",
        "\n",
        "fig = plt.figure()\n",
        "plt.plot(xa, ya)\n",
        "plt.show()"
      ],
      "execution_count": 16,
      "outputs": [
        {
          "output_type": "stream",
          "text": [
            "Mean steps taken: nan\n",
            "Mean rVal computed: 10000.0\n",
            "p-value: nan\n",
            "This is c(N) 0\n",
            "This is W 0.0\n",
            "s = -inf\n"
          ],
          "name": "stdout"
        },
        {
          "output_type": "stream",
          "text": [
            "/usr/local/lib/python3.6/dist-packages/numpy/core/fromnumeric.py:3335: RuntimeWarning: Mean of empty slice.\n",
            "  out=out, **kwargs)\n",
            "/usr/local/lib/python3.6/dist-packages/numpy/core/_methods.py:161: RuntimeWarning: invalid value encountered in double_scalars\n",
            "  ret = ret.dtype.type(ret / rcount)\n",
            "/usr/local/lib/python3.6/dist-packages/ipykernel_launcher.py:19: RuntimeWarning: divide by zero encountered in log\n"
          ],
          "name": "stderr"
        },
        {
          "output_type": "display_data",
          "data": {
            "image/png": "[encoded data removed]",
            "text/plain": [
              "<Figure size 432x288 with 1 Axes>"
            ]
          },
          "metadata": {
            "tags": [],
            "needs_background": "light"
          }
        }
      ]
    },
    {
      "cell_type": "code",
      "metadata": {
        "id": "U5Kz17AZjtUG"
      },
      "source": [
        ""
      ],
      "execution_count": null,
      "outputs": []
    }
  ]
}